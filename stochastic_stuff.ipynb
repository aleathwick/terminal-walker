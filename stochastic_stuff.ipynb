{
 "cells": [
  {
   "cell_type": "code",
   "execution_count": 1,
   "metadata": {},
   "outputs": [],
   "source": [
    "import numpy as np\n",
    "import matplotlib.pyplot as plt\n",
    "from tqdm import tqdm\n",
    "\n",
    "def cumulative_matrix(m):\n",
    "    \"\"\"given a matrix m of probabilities (where row sums are 1), return cumulative distribution matrix\"\"\"\n",
    "    m = np.array(m)\n",
    "    return np.transpose(np.array([np.sum(m[...,:i], axis=-1) for i in range(1, m.shape[-1] + 1)]))\n",
    "\n",
    "def generate_state(PC_row):\n",
    "    \"\"\"given a row of cumulative probabilities, generate a new state\"\"\"\n",
    "    u = np.random.rand()\n",
    "    for j in range(len(PC_row)):\n",
    "        if u < PC_row[j]:\n",
    "            return j"
   ]
  },
  {
   "cell_type": "markdown",
   "metadata": {},
   "source": [
    "### Purpose\n",
    "This notebook simulates markov chains; these simulations can be used to infer things about the long term distribution across states (in continuous or discrete time), or reaching probabilities and reaching times."
   ]
  },
  {
   "cell_type": "markdown",
   "metadata": {},
   "source": [
    "### Setup\n",
    "Give values for P matrix and, if desired, expected times in each state (to calculate continuous time expected reaching times)."
   ]
  },
  {
   "cell_type": "code",
   "execution_count": 4,
   "metadata": {},
   "outputs": [],
   "source": [
    "starting_state = [0,1,0,0] # state to start in. Can be an integer index of a state, or list of probabilities.\n",
    "terminal_states = [0] # states that will end the random walk\n",
    "steps = 2000000 # number of steps to perform\n",
    "\n",
    "# transition matrix\n",
    "l=1\n",
    "m=1\n",
    "# P can be provided 'unormalized', then have each row normalized later\n",
    "P = [[0,l,0,0],\n",
    "    [m, 0, 4/3*l, 0],\n",
    "     [0, 2*m, 0, l],\n",
    "    [0, 0, 3*m, 0]]\n",
    "\n",
    "P = np.array(P)\n",
    "row_sums = P.sum(axis=-1, keepdims=True)\n",
    "P = P / row_sums\n",
    "\n",
    "# rate of leaving each state - this is used for simulating expected reaching times for continuous time processes\n",
    "# this corresponds to the diagonal entries of the transition rate matrix\n",
    "q = row_sums\n"
   ]
  },
  {
   "cell_type": "markdown",
   "metadata": {},
   "source": [
    "### Simulation: Random Walks\n",
    "To generate a random transition, we:\n",
    "1. generate a sample from uniform(0,1)\n",
    "2. use the inverse of the cumulative distribution to find what state we're now in \n",
    "\n",
    "We therefore use the P matrix to calculate a version of it with cumulative probabilities."
   ]
  },
  {
   "cell_type": "code",
   "execution_count": 5,
   "metadata": {},
   "outputs": [
    {
     "name": "stderr",
     "output_type": "stream",
     "text": [
      "100%|████████████████████████████████████████████████████████████████████| 2000000/2000000 [00:07<00:00, 259557.64it/s]\n"
     ]
    }
   ],
   "source": [
    "# check that row sums are 1\n",
    "assert np.all(np.abs(np.sum(P, axis=-1) - 1) < 1e-5), \"All row sums must be 1!\"\n",
    "\n",
    "# use P to calculate the cumulative distribution of transitions\n",
    "PC = cumulative_matrix(P)\n",
    "if not isinstance(starting_state, int):\n",
    "    starting_state_C = cumulative_matrix(starting_state)\n",
    "\n",
    "# initialize empty lists to store random walks, and final states\n",
    "all_walks = []\n",
    "final_states = []\n",
    "\n",
    "# generate first state\n",
    "if isinstance(starting_state, int):\n",
    "    i = starting_state\n",
    "else:\n",
    "    i = generate_state(starting_state_C)\n",
    "walk = [i]\n",
    "for step in tqdm(range(steps)):\n",
    "    i = generate_state(PC[i])\n",
    "    walk.append(i)\n",
    "    if i in terminal_states:\n",
    "        final_states.append(i)\n",
    "        all_walks.append(walk)\n",
    "        if isinstance(starting_state, int):\n",
    "            i = starting_state\n",
    "        else:\n",
    "            i = generate_state(starting_state_C)\n",
    "        walk = [i]"
   ]
  },
  {
   "cell_type": "markdown",
   "metadata": {},
   "source": [
    "### Simulation: Reaching Times\n",
    "With leaving rates supplied for each state (assuming the times are exponentially distributed), we can then generate random times for each random walk."
   ]
  },
  {
   "cell_type": "code",
   "execution_count": 7,
   "metadata": {},
   "outputs": [
    {
     "name": "stderr",
     "output_type": "stream",
     "text": [
      "100%|███████████████████████████████████████████████████████████████████████| 400440/400440 [00:31<00:00, 12760.00it/s]\n"
     ]
    }
   ],
   "source": [
    "# generate random times for each state in each walk\n",
    "all_times = []\n",
    "for j, walk in enumerate(tqdm(all_walks)):\n",
    "    walk_times = []\n",
    "    for i in walk[:]:\n",
    "        walk_times.append(np.random.exponential(1 / q[i]))\n",
    "    all_times.append(walk_times)"
   ]
  },
  {
   "cell_type": "markdown",
   "metadata": {},
   "source": [
    "### Results\n",
    "We can then use the simulated random walks to calculate the probability of reaching one terminal state vs others, and the expected duration of a walk before reaching such states."
   ]
  },
  {
   "cell_type": "code",
   "execution_count": 102,
   "metadata": {},
   "outputs": [
    {
     "name": "stdout",
     "output_type": "stream",
     "text": [
      "[0, 3]\n",
      "[0.4669669900811172, 0.5330330099188828]\n"
     ]
    }
   ],
   "source": [
    "# proportion of walks ending in each of the terminal states\n",
    "print(terminal_states)\n",
    "print([sum([1 for i in final_states if i == j]) / len(final_states) for j in terminal_states])"
   ]
  },
  {
   "cell_type": "code",
   "execution_count": null,
   "metadata": {},
   "outputs": [],
   "source": [
    "# expected steps to reach a terminal state\n",
    "# that is simply the average length of each random walk\n",
    "walk_steps = np.mean([len(w) - 1 for w in all_walks])"
   ]
  },
  {
   "cell_type": "code",
   "execution_count": 12,
   "metadata": {},
   "outputs": [
    {
     "name": "stdout",
     "output_type": "stream",
     "text": [
      "[0.0, 0.4291579262810908, 0.26314803715912494, 0.3076940365597842]\n"
     ]
    },
    {
     "data": {
      "text/plain": [
       "(array([171852.,      0.,      0.,      0.,      0., 105375.,      0.,\n",
       "             0.,      0., 123213.]),\n",
       " array([1. , 1.2, 1.4, 1.6, 1.8, 2. , 2.2, 2.4, 2.6, 2.8, 3. ]),\n",
       " <a list of 10 Patch objects>)"
      ]
     },
     "execution_count": 12,
     "metadata": {},
     "output_type": "execute_result"
    },
    {
     "data": {
      "image/png": "[encoded data removed]",
      "text/plain": [
       "<Figure size 432x288 with 1 Axes>"
      ]
     },
     "metadata": {
      "needs_background": "light"
     },
     "output_type": "display_data"
    }
   ],
   "source": [
    "# distribution of maximum states\n",
    "all_states = [i for i in range(len(P))]\n",
    "peaks = [max(w) for w in all_walks]\n",
    "print([sum([1 for i in peaks if i == j]) / len(peaks) for j in all_states])\n",
    "plt.hist(peaks)"
   ]
  },
  {
   "cell_type": "code",
   "execution_count": 8,
   "metadata": {},
   "outputs": [
    {
     "data": {
      "text/plain": [
       "1.8890635940836649"
      ]
     },
     "execution_count": 8,
     "metadata": {},
     "output_type": "execute_result"
    }
   ],
   "source": [
    "# expected time to reach a terminal state\n",
    "walk_durations = [sum(i[:-1]) for i in all_times]\n",
    "np.mean(walk_durations)"
   ]
  },
  {
   "cell_type": "code",
   "execution_count": 103,
   "metadata": {},
   "outputs": [
    {
     "name": "stdout",
     "output_type": "stream",
     "text": [
      "[0, 1, 2, 3]\n",
      "[0.14012819990573494, 0.4200233016928093, 0.2798951017870744, 0.15995339661438135]\n"
     ]
    }
   ],
   "source": [
    "# proportion of time in each state\n",
    "all_states = [i for i in range(len(P))]\n",
    "print(all_states)\n",
    "flattend_walks = [t for w in all_walks for t in w]\n",
    "print([sum([1 for i in flattend_walks if i == j]) / len(flattend_walks) for j in all_states])"
   ]
  },
  {
   "cell_type": "markdown",
   "metadata": {},
   "source": [
    "#### alternative version of simulation for loop\n",
    "Performs fixed number of random walks, rather than steps (a random walk consisting of multiple steps). Doesn't work if there are no terminal states - will go forever."
   ]
  },
  {
   "cell_type": "code",
   "execution_count": null,
   "metadata": {},
   "outputs": [],
   "source": [
    "for iteration in tqdm(range(total_iterations)):\n",
    "    if isinstance(starting_state, int):\n",
    "        i = starting_state\n",
    "    else:\n",
    "        i = generate_state(starting_state_C)\n",
    "    walk = [i]\n",
    "    while i not in terminal_states:\n",
    "        i = generate_state(PC[i])\n",
    "        walk.append(i)\n",
    "    final_states.append(i)\n",
    "    all_walks.append(walk)"
   ]
  }
 ],
 "metadata": {
  "kernelspec": {
   "display_name": "Python 3",
   "language": "python",
   "name": "python3"
  },
  "language_info": {
   "codemirror_mode": {
    "name": "ipython",
    "version": 3
   },
   "file_extension": ".py",
   "mimetype": "text/x-python",
   "name": "python",
   "nbconvert_exporter": "python",
   "pygments_lexer": "ipython3",
   "version": "3.7.1"
  }
 },
 "nbformat": 4,
 "nbformat_minor": 2
}
