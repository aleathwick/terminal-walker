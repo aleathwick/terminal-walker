{
 "cells": [
  {
   "cell_type": "code",
   "execution_count": 69,
   "metadata": {},
   "outputs": [],
   "source": [
    "import numpy as np\n",
    "import matplotlib.pyplot as plt\n",
    "from tqdm import tqdm\n",
    "\n",
    "def cumulative_matrix(m):\n",
    "    \"\"\"given a matrix m of probabilities (where row sums are 1), return cumulative distribution matrix\"\"\"\n",
    "    m = np.array(m)\n",
    "    return np.transpose(np.array([np.sum(m[...,:i], axis=-1) for i in range(1, m.shape[-1] + 1)]))\n",
    "\n",
    "def generate_state(PC_row):\n",
    "    \"\"\"given a row of cumulative probabilities, generate a new state\"\"\"\n",
    "    u = np.random.rand()\n",
    "    for j in range(len(PC_row)):\n",
    "        if u < PC_row[j]:\n",
    "            return j"
   ]
  },
  {
   "cell_type": "markdown",
   "metadata": {},
   "source": [
    "### Purpose\n",
    "This notebook simulates markov chains; these simulations can be used to infer things about the long term distribution across states (in continuous or discrete time), or reaching probabilities and reaching times."
   ]
  },
  {
   "cell_type": "markdown",
   "metadata": {},
   "source": [
    "### Setup\n",
    "Give values for P matrix and, if desired, expected times in each state (to calculate continuous time expected reaching times)."
   ]
  },
  {
   "cell_type": "code",
   "execution_count": 104,
   "metadata": {},
   "outputs": [],
   "source": [
    "starting_state = [0,1,0,0] # state to start in. Can be an integer index of a state, or list of probabilities.\n",
    "terminal_states = [0,3] # states that will end the random walk\n",
    "steps = 2000000 # number of steps to perform\n",
    "\n",
    "# transition matrix\n",
    "P = [[0,1,0,0],\n",
    "    [1/3, 0, 2/3, 0],\n",
    "     [0, 1.5/3.5, 0, 2/3.5],\n",
    "    [0, 0, 1, 0]]\n",
    "P = np.array(P)\n",
    "\n",
    "# rate of leaving each state - this is used for simulating expected reaching times for continuous time processes\n",
    "# this corresponds to the diagonal entries of the transition rate matrix\n",
    "q = [1, 3, 3.5, 1]\n"
   ]
  },
  {
   "cell_type": "markdown",
   "metadata": {},
   "source": [
    "### Simulation: Random Walks\n",
    "To generate a random transition, we:\n",
    "1. generate a sample from uniform(0,1)\n",
    "2. use the inverse of the cumulative distribution to find what state we're now in \n",
    "\n",
    "We therefore use the P matrix to calculate a version of it with cumulative probabilities."
   ]
  },
  {
   "cell_type": "code",
   "execution_count": 105,
   "metadata": {},
   "outputs": [
    {
     "name": "stderr",
     "output_type": "stream",
     "text": [
      "100%|████████████████████████████████████████████████████████████████████| 2000000/2000000 [00:10<00:00, 190351.00it/s]\n"
     ]
    }
   ],
   "source": [
    "# check that row sums are 1\n",
    "assert np.all(np.abs(np.sum(P, axis=-1) - 1) < 1e-5), \"All row sums must be 1!\"\n",
    "\n",
    "# use P to calculate the cumulative distribution of transitions\n",
    "PC = cumulative_matrix(P)\n",
    "if not isinstance(starting_state, int):\n",
    "    starting_state_C = cumulative_matrix(starting_state)\n",
    "\n",
    "# initialize empty lists to store random walks, and final states\n",
    "all_walks = []\n",
    "final_states = []\n",
    "\n",
    "# generate first state\n",
    "if isinstance(starting_state, int):\n",
    "    i = starting_state\n",
    "else:\n",
    "    i = generate_state(starting_state_C)\n",
    "walk = [i]\n",
    "for step in tqdm(range(steps)):\n",
    "    i = generate_state(PC[i])\n",
    "    walk.append(i)\n",
    "    if i in terminal_states:\n",
    "        final_states.append(i)\n",
    "        all_walks.append(walk)\n",
    "        if isinstance(starting_state, int):\n",
    "            i = starting_state\n",
    "        else:\n",
    "            i = generate_state(starting_state_C)\n",
    "        walk = [i]"
   ]
  },
  {
   "cell_type": "markdown",
   "metadata": {},
   "source": [
    "### Simulation: Reaching Times\n",
    "With leaving rates supplied for each state (assuming the times are exponentially distributed), we can then generate random times for each random walk."
   ]
  },
  {
   "cell_type": "code",
   "execution_count": 99,
   "metadata": {},
   "outputs": [
    {
     "name": "stderr",
     "output_type": "stream",
     "text": [
      "100%|█████████████████████████████████████████████████████████████████████| 2143689/2143689 [00:25<00:00, 84059.16it/s]\n"
     ]
    }
   ],
   "source": [
    "# generate random times for each state in each walk\n",
    "all_times = []\n",
    "if q != None:\n",
    "    for j, walk in enumerate(tqdm(all_walks)):\n",
    "        walk_times = []\n",
    "        for i in walk[:]:\n",
    "            walk_times.append(np.random.exponential(1 / q[i]))\n",
    "        all_times.append(walk_times)"
   ]
  },
  {
   "cell_type": "markdown",
   "metadata": {},
   "source": [
    "### Results\n",
    "We can then use the simulated random walks to calculate the probability of reaching one terminal state vs others, and the expected duration of a walk before reaching such states."
   ]
  },
  {
   "cell_type": "code",
   "execution_count": 102,
   "metadata": {},
   "outputs": [
    {
     "name": "stdout",
     "output_type": "stream",
     "text": [
      "[0, 3]\n",
      "[0.4669669900811172, 0.5330330099188828]\n"
     ]
    }
   ],
   "source": [
    "# proportion of walks ending in each of the terminal states\n",
    "print(terminal_states)\n",
    "print([sum([1 for i in final_states if i == j]) / len(final_states) for j in terminal_states])"
   ]
  },
  {
   "cell_type": "code",
   "execution_count": null,
   "metadata": {},
   "outputs": [],
   "source": [
    "# expected steps to reach a terminal state\n",
    "# that is simply the average length of each random walk\n",
    "walk_steps = np.mean([len(w) - 1 for w in all_walks])"
   ]
  },
  {
   "cell_type": "code",
   "execution_count": 101,
   "metadata": {},
   "outputs": [
    {
     "data": {
      "text/plain": [
       "0.7332076744906688"
      ]
     },
     "execution_count": 101,
     "metadata": {},
     "output_type": "execute_result"
    }
   ],
   "source": [
    "# expected time to reach a terminal state\n",
    "walk_durations = [sum(i[:-1]) for i in all_times]\n",
    "np.mean(walk_durations)"
   ]
  },
  {
   "cell_type": "code",
   "execution_count": 103,
   "metadata": {},
   "outputs": [
    {
     "name": "stdout",
     "output_type": "stream",
     "text": [
      "[0, 1, 2, 3]\n",
      "[0.14012819990573494, 0.4200233016928093, 0.2798951017870744, 0.15995339661438135]\n"
     ]
    }
   ],
   "source": [
    "# proportion of time in each state\n",
    "all_states = [i for i in range(len(P))]\n",
    "print(all_states)\n",
    "flattend_walks = [t for w in all_walks for t in w]\n",
    "print([sum([1 for i in flattend_walks if i == j]) / len(flattend_walks) for j in all_states])"
   ]
  },
  {
   "cell_type": "markdown",
   "metadata": {},
   "source": [
    "#### alternative version of simulation for loop\n",
    "Performs fixed number of random walks, rather than steps (a random walk consisting of multiple steps). Doesn't work if there are no terminal states - will go forever."
   ]
  },
  {
   "cell_type": "code",
   "execution_count": null,
   "metadata": {},
   "outputs": [],
   "source": [
    "for iteration in tqdm(range(total_iterations)):\n",
    "    if isinstance(starting_state, int):\n",
    "        i = starting_state\n",
    "    else:\n",
    "        i = generate_state(starting_state_C)\n",
    "    walk = [i]\n",
    "    while i not in terminal_states:\n",
    "        i = generate_state(PC[i])\n",
    "        walk.append(i)\n",
    "    final_states.append(i)\n",
    "    all_walks.append(walk)"
   ]
  }
 ],
 "metadata": {
  "kernelspec": {
   "display_name": "Python 3",
   "language": "python",
   "name": "python3"
  },
  "language_info": {
   "codemirror_mode": {
    "name": "ipython",
    "version": 3
   },
   "file_extension": ".py",
   "mimetype": "text/x-python",
   "name": "python",
   "nbconvert_exporter": "python",
   "pygments_lexer": "ipython3",
   "version": "3.7.1"
  }
 },
 "nbformat": 4,
 "nbformat_minor": 2
}
